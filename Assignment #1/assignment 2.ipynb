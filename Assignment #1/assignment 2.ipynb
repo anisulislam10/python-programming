{
 "cells": [
  {
   "cell_type": "code",
   "execution_count": 66,
   "id": "f274f413",
   "metadata": {},
   "outputs": [
    {
     "ename": "IndentationError",
     "evalue": "expected an indented block (<ipython-input-66-1db5d04b12cb>, line 12)",
     "output_type": "error",
     "traceback": [
      "\u001b[1;36m  File \u001b[1;32m\"<ipython-input-66-1db5d04b12cb>\"\u001b[1;36m, line \u001b[1;32m12\u001b[0m\n\u001b[1;33m    print('You Achieved A Grade in Islamic studies subject');\u001b[0m\n\u001b[1;37m    ^\u001b[0m\n\u001b[1;31mIndentationError\u001b[0m\u001b[1;31m:\u001b[0m expected an indented block\n"
     ]
    }
   ],
   "source": [
    "\n",
    "Islamic_Studies_Marks=96;\n",
    "English_Marks=86;\n",
    "Maths_Marks=78;\n",
    "Total_Marks=300;\n",
    "\n",
    "Total_Gained_Marks=Islamic_Studies_Marks+English_Marks+Maths_Marks;\n",
    "\n",
    "Percentage=(Total_Gained_Marks/Total_Marks*100);\n",
    "print(\"Percentage of All Subjects \")\n",
    "print(Percentage );\n",
    "if Islamic_Studies_Marks <100 and Islamic_Studies_Marks>90:\n",
    "print('You Achieved A Grade in Islamic studies subject');\n",
    "elif Islamic_Studies_Marks <=80 and Islamic_Studies_Marks >= 80:\n",
    "    print(\"You Achieved B Grade in Islamic studies subject\");\n",
    "    elif Islamic_Studies_Marks <=79 and Islamic_Studies_Marks >= 70 :\n",
    "            print(\"You Achieved C Grade in Islamic studies subject\");\n",
    "            elif Islamic_Studies_Marks <= 60 and Islamic_Studies_Marks >=0:\n",
    "                            print(\"Bad Luck!! You Failed in Islamic studies subject\");\n",
    "                        \n",
    "if English_Marks <100 and English_Marks>90:\n",
    "print('You Achieved A Grade in English subject');\n",
    "elif English_Marks <=80 and English_Marks >= 80:\n",
    "    print(\"You Achieved B Grade in English subject\");\n",
    "    elif English_Marks <=79 and English_Marks >= 70 :\n",
    "            print(\"You Achieved C Grade in English subject\");\n",
    "            elif English_Marks <= 60 and English_Marks >=0:\n",
    "                            print(\"Bad Luck!! You Failed in English subject\");                    \n",
    "if Maths_Marks <100 and Maths_Marks>90:\n",
    "print('You Achieved A Grade in Maths in subject  \");\n",
    "elif Maths_Marks <=80 and Maths_Marks >= 80:\n",
    "    print(\"You Achieved B Grade Maths in subject \");\n",
    "    elif Maths_Marks <=79 and Maths_Marks >= 70 :\n",
    "            print(\"You Achieved C Grade in Maths subject\");\n",
    "            elif Maths_Marks <= 60 and Maths_Marks >=0:\n",
    "                            print(\"Bad Luck!! You Failed in Maths subject\"); \n",
    "\n"
   ]
  },
  {
   "cell_type": "code",
   "execution_count": null,
   "id": "351108b5",
   "metadata": {
    "slideshow": {
     "slide_type": "-"
    }
   },
   "outputs": [],
   "source": [
    "# "
   ]
  },
  {
   "cell_type": "code",
   "execution_count": null,
   "id": "703cb4a2",
   "metadata": {},
   "outputs": [],
   "source": []
  },
  {
   "cell_type": "code",
   "execution_count": null,
   "id": "d299f789",
   "metadata": {},
   "outputs": [],
   "source": []
  },
  {
   "cell_type": "code",
   "execution_count": null,
   "id": "ba0a06d3",
   "metadata": {},
   "outputs": [],
   "source": []
  },
  {
   "cell_type": "code",
   "execution_count": null,
   "id": "41f6a1f7",
   "metadata": {},
   "outputs": [],
   "source": []
  },
  {
   "cell_type": "code",
   "execution_count": null,
   "id": "7d35e5a0",
   "metadata": {},
   "outputs": [],
   "source": []
  },
  {
   "cell_type": "code",
   "execution_count": null,
   "id": "f6cacf2a",
   "metadata": {},
   "outputs": [],
   "source": []
  },
  {
   "cell_type": "code",
   "execution_count": null,
   "id": "68e57e27",
   "metadata": {},
   "outputs": [],
   "source": []
  },
  {
   "cell_type": "code",
   "execution_count": null,
   "id": "7ea5938a",
   "metadata": {},
   "outputs": [],
   "source": []
  },
  {
   "cell_type": "code",
   "execution_count": null,
   "id": "70b2e3c1",
   "metadata": {},
   "outputs": [],
   "source": []
  },
  {
   "cell_type": "code",
   "execution_count": null,
   "id": "b11457ad",
   "metadata": {},
   "outputs": [],
   "source": []
  },
  {
   "cell_type": "code",
   "execution_count": null,
   "id": "b2390917",
   "metadata": {},
   "outputs": [],
   "source": []
  },
  {
   "cell_type": "code",
   "execution_count": null,
   "id": "336d1747",
   "metadata": {},
   "outputs": [],
   "source": []
  },
  {
   "cell_type": "code",
   "execution_count": null,
   "id": "4615ea96",
   "metadata": {},
   "outputs": [],
   "source": []
  },
  {
   "cell_type": "code",
   "execution_count": null,
   "id": "6190667d",
   "metadata": {},
   "outputs": [],
   "source": []
  },
  {
   "cell_type": "code",
   "execution_count": null,
   "id": "1e045467",
   "metadata": {},
   "outputs": [],
   "source": []
  },
  {
   "cell_type": "code",
   "execution_count": null,
   "id": "9430d362",
   "metadata": {},
   "outputs": [],
   "source": []
  }
 ],
 "metadata": {
  "celltoolbar": "Slideshow",
  "kernelspec": {
   "display_name": "Python 3",
   "language": "python",
   "name": "python3"
  },
  "language_info": {
   "codemirror_mode": {
    "name": "ipython",
    "version": 3
   },
   "file_extension": ".py",
   "mimetype": "text/x-python",
   "name": "python",
   "nbconvert_exporter": "python",
   "pygments_lexer": "ipython3",
   "version": "3.8.8"
  }
 },
 "nbformat": 4,
 "nbformat_minor": 5
}
