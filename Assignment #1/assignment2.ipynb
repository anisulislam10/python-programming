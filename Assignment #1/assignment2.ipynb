{
 "cells": [
  {
   "cell_type": "code",
   "execution_count": 23,
   "id": "a557b33b",
   "metadata": {},
   "outputs": [
    {
     "ename": "IndentationError",
     "evalue": "expected an indented block (<ipython-input-23-656fe33ec9d7>, line 14)",
     "output_type": "error",
     "traceback": [
      "\u001b[1;36m  File \u001b[1;32m\"<ipython-input-23-656fe33ec9d7>\"\u001b[1;36m, line \u001b[1;32m14\u001b[0m\n\u001b[1;33m    print(\"You Achieved B Grade\");\u001b[0m\n\u001b[1;37m    ^\u001b[0m\n\u001b[1;31mIndentationError\u001b[0m\u001b[1;31m:\u001b[0m expected an indented block\n"
     ]
    }
   ],
   "source": [
    "\n",
    "Islamic_Studies_Marks=91;\n",
    "English_Marks=86;\n",
    "Maths_Marks=78;\n",
    "Total_Marks=300;\n",
    "\n",
    "Total_Gained_Marks=Islamic_Studies_Marks+English_Marks+Maths_Marks;\n",
    "\n",
    "Percentage=(Total_Gained_Marks/Total_Marks*100);\n",
    "print(\"Percentage of All Subjects \")\n",
    "print(Percentage );\n",
    "if Islamic_Studies_Marks >90 and Islamic_Studies_Marks < 100:\n",
    "    print(\"You Achieved A Grade\");\n",
    "    if Islamic_Studies_Marks>80 and Islamic_Studies_Marks<89:\n",
    "    print(\"You Achieved B Grade\");\n",
    "    \n",
    "\n"
   ]
  },
  {
   "cell_type": "code",
   "execution_count": null,
   "id": "1c0ee4af",
   "metadata": {},
   "outputs": [],
   "source": []
  },
  {
   "cell_type": "code",
   "execution_count": null,
   "id": "b133330a",
   "metadata": {},
   "outputs": [],
   "source": []
  }
 ],
 "metadata": {
  "kernelspec": {
   "display_name": "Python 3",
   "language": "python",
   "name": "python3"
  },
  "language_info": {
   "codemirror_mode": {
    "name": "ipython",
    "version": 3
   },
   "file_extension": ".py",
   "mimetype": "text/x-python",
   "name": "python",
   "nbconvert_exporter": "python",
   "pygments_lexer": "ipython3",
   "version": "3.8.8"
  }
 },
 "nbformat": 4,
 "nbformat_minor": 5
}
